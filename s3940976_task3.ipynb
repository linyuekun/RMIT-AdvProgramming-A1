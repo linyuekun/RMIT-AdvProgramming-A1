{
 "cells": [
  {
   "cell_type": "markdown",
   "metadata": {},
   "source": [
    "# Assignment 1: Data Parsing, Cleansing and Integration\n",
    "## Task 3\n",
    "#### Student Name: Sukhum Boondecharak\n",
    "#### Student ID: 3940976\n",
    "\n",
    "Date: 28 Aug 2023\n",
    "\n",
    "Version: 1.0\n",
    "\n",
    "Environment: Python 3 and Jupyter notebook\n",
    "\n",
    "Libraries used: please include the main libraries you used in your assignment, e.g.,:\n",
    "* pandas\n",
    "* re\n",
    "* numpy\n",
    "\n",
    "\n",
    "## Introduction\n",
    "Give general information of this assessment here, e.g., what problems you encounter in integration, general steps and solutions you've taken to integrate the data. \n",
    "\n",
    "<span style=\"color: red\"> Note that this is a sample notebook only. You will need to fill in the proper markdown and code blocks. You might also want to make necessary changes to the structure to meet your own needs. Note also that any generic comments written in this notebook are to be removed and replace with your own words.</span>\n"
   ]
  },
  {
   "cell_type": "markdown",
   "metadata": {},
   "source": [
    "##  Import libraries "
   ]
  },
  {
   "cell_type": "code",
   "execution_count": 1,
   "metadata": {},
   "outputs": [],
   "source": [
    "# Code to import libraries as you need in this assessment\n",
    "\n",
    "import pandas as pd \n",
    "import numpy as np\n",
    "import random"
   ]
  },
  {
   "cell_type": "markdown",
   "metadata": {},
   "source": [
    "### 1. Examining and loading data\n",
    "Examine \"\\<student\\_id\\>_dataset2.csv\" the structure and schema. "
   ]
  },
  {
   "cell_type": "code",
   "execution_count": 2,
   "metadata": {},
   "outputs": [
    {
     "name": "stdout",
     "output_type": "stream",
     "text": [
      "<class 'pandas.core.frame.DataFrame'>\n",
      "RangeIndex: 5000 entries, 0 to 4999\n",
      "Data columns (total 9 columns):\n",
      " #   Column                      Non-Null Count  Dtype  \n",
      "---  ------                      --------------  -----  \n",
      " 0   Monthly Payment             5000 non-null   float64\n",
      " 1   Closing                     5000 non-null   object \n",
      " 2   Organisation                4514 non-null   object \n",
      " 3   Location                    5000 non-null   object \n",
      " 4   Category                    5000 non-null   object \n",
      " 5   Full-Time Equivalent (FTE)  5000 non-null   float64\n",
      " 6   Opening                     5000 non-null   object \n",
      " 7   Job Title                   5000 non-null   object \n",
      " 8   Type                        3580 non-null   object \n",
      "dtypes: float64(2), object(7)\n",
      "memory usage: 351.7+ KB\n"
     ]
    }
   ],
   "source": [
    "# Code to inspect the provided data file\n",
    "# Couple of notes for all code block in this notebook\n",
    "## please provide proper comment on your code\n",
    "## Please re-start and run all cells to make sure codes are runable and include your output in the submission\n",
    "\n",
    "df_dataset_1 = pd.read_csv(\"s3940976_dataset1_solution.csv\")\n",
    "df_dataset_2 = pd.read_csv(\"s3940976_dataset2.csv\")\n",
    "df_dataset_2.info()"
   ]
  },
  {
   "cell_type": "markdown",
   "metadata": {},
   "source": [
    "### 2. Resolving schema conflicts\n",
    "Give some general information about the conflicts you found in two schemas and steps you taken to resolve them.\n",
    "\n",
    "<span style=\"color: red\"> You might have complex notebook structure in this section, please feel free to create your own notebook structure. </span>"
   ]
  },
  {
   "cell_type": "markdown",
   "metadata": {},
   "source": [
    "#### Conflict 1: Naming conflicts in Title, Company, ContractType, ContractTime, Category, Salary, OpenDate, CloseDateHere"
   ]
  },
  {
   "cell_type": "code",
   "execution_count": 3,
   "metadata": {
    "scrolled": false
   },
   "outputs": [
    {
     "name": "stdout",
     "output_type": "stream",
     "text": [
      "<class 'pandas.core.frame.DataFrame'>\n",
      "RangeIndex: 50753 entries, 0 to 50752\n",
      "Data columns (total 11 columns):\n",
      " #   Column        Non-Null Count  Dtype  \n",
      "---  ------        --------------  -----  \n",
      " 0   Id            50753 non-null  int64  \n",
      " 1   Title         50753 non-null  object \n",
      " 2   Location      50753 non-null  object \n",
      " 3   Company       50753 non-null  object \n",
      " 4   ContractType  50753 non-null  object \n",
      " 5   ContractTime  50753 non-null  object \n",
      " 6   Category      50753 non-null  object \n",
      " 7   Salary        50753 non-null  float64\n",
      " 8   OpenDate      50753 non-null  object \n",
      " 9   CloseDate     50753 non-null  object \n",
      " 10  SourceName    50753 non-null  object \n",
      "dtypes: float64(1), int64(1), object(9)\n",
      "memory usage: 4.3+ MB\n"
     ]
    }
   ],
   "source": [
    "# Code to inspect data and identify conflicts in schema\n",
    "\n",
    "df_dataset_1.info()"
   ]
  },
  {
   "cell_type": "markdown",
   "metadata": {},
   "source": [
    "Tell me about how you fix the conflict here"
   ]
  },
  {
   "cell_type": "code",
   "execution_count": 4,
   "metadata": {
    "scrolled": true
   },
   "outputs": [
    {
     "data": {
      "text/html": [
       "<div>\n",
       "<style scoped>\n",
       "    .dataframe tbody tr th:only-of-type {\n",
       "        vertical-align: middle;\n",
       "    }\n",
       "\n",
       "    .dataframe tbody tr th {\n",
       "        vertical-align: top;\n",
       "    }\n",
       "\n",
       "    .dataframe thead th {\n",
       "        text-align: right;\n",
       "    }\n",
       "</style>\n",
       "<table border=\"1\" class=\"dataframe\">\n",
       "  <thead>\n",
       "    <tr style=\"text-align: right;\">\n",
       "      <th></th>\n",
       "      <th>Salary</th>\n",
       "      <th>CloseDate</th>\n",
       "      <th>Company</th>\n",
       "      <th>Location</th>\n",
       "      <th>Category</th>\n",
       "      <th>ContractType</th>\n",
       "      <th>OpenDate</th>\n",
       "      <th>Title</th>\n",
       "      <th>ContractTime</th>\n",
       "    </tr>\n",
       "  </thead>\n",
       "  <tbody>\n",
       "    <tr>\n",
       "      <th>0</th>\n",
       "      <td>1200.00</td>\n",
       "      <td>2012-12-27 12:00:00</td>\n",
       "      <td>Protocol Education</td>\n",
       "      <td>UK</td>\n",
       "      <td>Education</td>\n",
       "      <td>0.8</td>\n",
       "      <td>2012-11-27 12:00:00</td>\n",
       "      <td>Higher Level Teaching Assistant (HLTA)</td>\n",
       "      <td>NaN</td>\n",
       "    </tr>\n",
       "    <tr>\n",
       "      <th>1</th>\n",
       "      <td>3125.00</td>\n",
       "      <td>2013-08-25 15:00:00</td>\n",
       "      <td>Cordius Ltd</td>\n",
       "      <td>UK</td>\n",
       "      <td>Information Technology</td>\n",
       "      <td>1.0</td>\n",
       "      <td>2013-06-26 15:00:00</td>\n",
       "      <td>Software Developers / Software Architects  Not...</td>\n",
       "      <td>Permanent</td>\n",
       "    </tr>\n",
       "    <tr>\n",
       "      <th>2</th>\n",
       "      <td>4333.33</td>\n",
       "      <td>2013-01-16 15:00:00</td>\n",
       "      <td>Understanding Recruitment</td>\n",
       "      <td>Walton-On-Thames</td>\n",
       "      <td>Information Technology</td>\n",
       "      <td>1.0</td>\n",
       "      <td>2012-10-18 15:00:00</td>\n",
       "      <td>Senior BI Consultant (Cognos)</td>\n",
       "      <td>Permanent</td>\n",
       "    </tr>\n",
       "    <tr>\n",
       "      <th>3</th>\n",
       "      <td>3750.00</td>\n",
       "      <td>2013-02-13 15:00:00</td>\n",
       "      <td>Wallace Hind Selection</td>\n",
       "      <td>UK</td>\n",
       "      <td>Sales</td>\n",
       "      <td>1.0</td>\n",
       "      <td>2012-12-15 15:00:00</td>\n",
       "      <td>Technical Sales Manager, Pigments Fillers to S...</td>\n",
       "      <td>NaN</td>\n",
       "    </tr>\n",
       "    <tr>\n",
       "      <th>4</th>\n",
       "      <td>2916.67</td>\n",
       "      <td>2013-01-12 12:00:00</td>\n",
       "      <td>Greenhill Group Ltd</td>\n",
       "      <td>Eastern England</td>\n",
       "      <td>Sales</td>\n",
       "      <td>1.0</td>\n",
       "      <td>2012-12-29 12:00:00</td>\n",
       "      <td>Channel Account Manager  Software</td>\n",
       "      <td>NaN</td>\n",
       "    </tr>\n",
       "    <tr>\n",
       "      <th>...</th>\n",
       "      <td>...</td>\n",
       "      <td>...</td>\n",
       "      <td>...</td>\n",
       "      <td>...</td>\n",
       "      <td>...</td>\n",
       "      <td>...</td>\n",
       "      <td>...</td>\n",
       "      <td>...</td>\n",
       "      <td>...</td>\n",
       "    </tr>\n",
       "    <tr>\n",
       "      <th>4995</th>\n",
       "      <td>5833.33</td>\n",
       "      <td>2013-03-31 00:00:00</td>\n",
       "      <td>Jonathan Lee Recruitment Ltd</td>\n",
       "      <td>London</td>\n",
       "      <td>Finance</td>\n",
       "      <td>1.0</td>\n",
       "      <td>2013-01-30 00:00:00</td>\n",
       "      <td>Head of Regulatory Policy</td>\n",
       "      <td>Permanent</td>\n",
       "    </tr>\n",
       "    <tr>\n",
       "      <th>4996</th>\n",
       "      <td>5000.00</td>\n",
       "      <td>2012-08-27 12:00:00</td>\n",
       "      <td>Impact 360</td>\n",
       "      <td>Berkshire</td>\n",
       "      <td>Information Technology</td>\n",
       "      <td>1.0</td>\n",
       "      <td>2012-06-28 12:00:00</td>\n",
       "      <td>Android Developer  eMarkets and eCommerce  Ber...</td>\n",
       "      <td>Permanent</td>\n",
       "    </tr>\n",
       "    <tr>\n",
       "      <th>4997</th>\n",
       "      <td>2833.33</td>\n",
       "      <td>2013-07-23 00:00:00</td>\n",
       "      <td>Aspire Data Recruitment</td>\n",
       "      <td>London</td>\n",
       "      <td>Finance</td>\n",
       "      <td>1.0</td>\n",
       "      <td>2013-04-24 00:00:00</td>\n",
       "      <td>SAS  Senior Collections Recoveries Analyst</td>\n",
       "      <td>Permanent</td>\n",
       "    </tr>\n",
       "    <tr>\n",
       "      <th>4998</th>\n",
       "      <td>4791.67</td>\n",
       "      <td>2012-12-18 15:00:00</td>\n",
       "      <td>Annapurna HR Ltd</td>\n",
       "      <td>London</td>\n",
       "      <td>Information Technology</td>\n",
       "      <td>1.0</td>\n",
       "      <td>2012-11-18 15:00:00</td>\n",
       "      <td>Lead PHP Magento Developer  London  ****k</td>\n",
       "      <td>Permanent</td>\n",
       "    </tr>\n",
       "    <tr>\n",
       "      <th>4999</th>\n",
       "      <td>3541.67</td>\n",
       "      <td>2013-10-20 12:00:00</td>\n",
       "      <td>Parallel Consulting Limited</td>\n",
       "      <td>Surrey</td>\n",
       "      <td>Information Technology</td>\n",
       "      <td>1.0</td>\n",
       "      <td>2013-08-21 12:00:00</td>\n",
       "      <td>Linux (CentOS), Puppet, SVN, LAMP , Systems Ad...</td>\n",
       "      <td>Permanent</td>\n",
       "    </tr>\n",
       "  </tbody>\n",
       "</table>\n",
       "<p>5000 rows × 9 columns</p>\n",
       "</div>"
      ],
      "text/plain": [
       "       Salary            CloseDate                       Company  \\\n",
       "0     1200.00  2012-12-27 12:00:00            Protocol Education   \n",
       "1     3125.00  2013-08-25 15:00:00                   Cordius Ltd   \n",
       "2     4333.33  2013-01-16 15:00:00     Understanding Recruitment   \n",
       "3     3750.00  2013-02-13 15:00:00        Wallace Hind Selection   \n",
       "4     2916.67  2013-01-12 12:00:00           Greenhill Group Ltd   \n",
       "...       ...                  ...                           ...   \n",
       "4995  5833.33  2013-03-31 00:00:00  Jonathan Lee Recruitment Ltd   \n",
       "4996  5000.00  2012-08-27 12:00:00                    Impact 360   \n",
       "4997  2833.33  2013-07-23 00:00:00       Aspire Data Recruitment   \n",
       "4998  4791.67  2012-12-18 15:00:00              Annapurna HR Ltd   \n",
       "4999  3541.67  2013-10-20 12:00:00   Parallel Consulting Limited   \n",
       "\n",
       "              Location                Category  ContractType  \\\n",
       "0                   UK               Education           0.8   \n",
       "1                   UK  Information Technology           1.0   \n",
       "2     Walton-On-Thames  Information Technology           1.0   \n",
       "3                   UK                   Sales           1.0   \n",
       "4      Eastern England                   Sales           1.0   \n",
       "...                ...                     ...           ...   \n",
       "4995            London                 Finance           1.0   \n",
       "4996         Berkshire  Information Technology           1.0   \n",
       "4997            London                 Finance           1.0   \n",
       "4998            London  Information Technology           1.0   \n",
       "4999            Surrey  Information Technology           1.0   \n",
       "\n",
       "                 OpenDate                                              Title  \\\n",
       "0     2012-11-27 12:00:00             Higher Level Teaching Assistant (HLTA)   \n",
       "1     2013-06-26 15:00:00  Software Developers / Software Architects  Not...   \n",
       "2     2012-10-18 15:00:00                      Senior BI Consultant (Cognos)   \n",
       "3     2012-12-15 15:00:00  Technical Sales Manager, Pigments Fillers to S...   \n",
       "4     2012-12-29 12:00:00                  Channel Account Manager  Software   \n",
       "...                   ...                                                ...   \n",
       "4995  2013-01-30 00:00:00                          Head of Regulatory Policy   \n",
       "4996  2012-06-28 12:00:00  Android Developer  eMarkets and eCommerce  Ber...   \n",
       "4997  2013-04-24 00:00:00         SAS  Senior Collections Recoveries Analyst   \n",
       "4998  2012-11-18 15:00:00          Lead PHP Magento Developer  London  ****k   \n",
       "4999  2013-08-21 12:00:00  Linux (CentOS), Puppet, SVN, LAMP , Systems Ad...   \n",
       "\n",
       "     ContractTime  \n",
       "0             NaN  \n",
       "1       Permanent  \n",
       "2       Permanent  \n",
       "3             NaN  \n",
       "4             NaN  \n",
       "...           ...  \n",
       "4995    Permanent  \n",
       "4996    Permanent  \n",
       "4997    Permanent  \n",
       "4998    Permanent  \n",
       "4999    Permanent  \n",
       "\n",
       "[5000 rows x 9 columns]"
      ]
     },
     "execution_count": 4,
     "metadata": {},
     "output_type": "execute_result"
    }
   ],
   "source": [
    "# Code to fix the conflict\n",
    "\n",
    "title_map = {\n",
    "    'Monthly Payment':'Salary', \n",
    "    'Closing':'CloseDate',\n",
    "    'Organisation':'Company',\n",
    "    'Full-Time Equivalent (FTE)':'ContractType',\n",
    "    'Opening':'OpenDate',\n",
    "    'Job Title':'Title',\n",
    "    'Type': 'ContractTime'\n",
    "}\n",
    "\n",
    "df_dataset_2.rename(title_map, axis=1, inplace = True)\n",
    "df_dataset_2"
   ]
  },
  {
   "cell_type": "markdown",
   "metadata": {},
   "source": [
    "#### Conflict 2: Missing Columns Id and SourceName"
   ]
  },
  {
   "cell_type": "code",
   "execution_count": 5,
   "metadata": {},
   "outputs": [
    {
     "name": "stdout",
     "output_type": "stream",
     "text": [
      "<class 'pandas.core.frame.DataFrame'>\n",
      "RangeIndex: 50753 entries, 0 to 50752\n",
      "Data columns (total 11 columns):\n",
      " #   Column        Non-Null Count  Dtype  \n",
      "---  ------        --------------  -----  \n",
      " 0   Id            50753 non-null  int64  \n",
      " 1   Title         50753 non-null  object \n",
      " 2   Location      50753 non-null  object \n",
      " 3   Company       50753 non-null  object \n",
      " 4   ContractType  50753 non-null  object \n",
      " 5   ContractTime  50753 non-null  object \n",
      " 6   Category      50753 non-null  object \n",
      " 7   Salary        50753 non-null  float64\n",
      " 8   OpenDate      50753 non-null  object \n",
      " 9   CloseDate     50753 non-null  object \n",
      " 10  SourceName    50753 non-null  object \n",
      "dtypes: float64(1), int64(1), object(9)\n",
      "memory usage: 4.3+ MB\n",
      "<class 'pandas.core.frame.DataFrame'>\n",
      "RangeIndex: 5000 entries, 0 to 4999\n",
      "Data columns (total 9 columns):\n",
      " #   Column        Non-Null Count  Dtype  \n",
      "---  ------        --------------  -----  \n",
      " 0   Salary        5000 non-null   float64\n",
      " 1   CloseDate     5000 non-null   object \n",
      " 2   Company       4514 non-null   object \n",
      " 3   Location      5000 non-null   object \n",
      " 4   Category      5000 non-null   object \n",
      " 5   ContractType  5000 non-null   float64\n",
      " 6   OpenDate      5000 non-null   object \n",
      " 7   Title         5000 non-null   object \n",
      " 8   ContractTime  3580 non-null   object \n",
      "dtypes: float64(2), object(7)\n",
      "memory usage: 351.7+ KB\n"
     ]
    }
   ],
   "source": [
    "# Code to inspect data and identify conflicts in schema\n",
    "\n",
    "df_dataset_1.info()\n",
    "df_dataset_2.info()"
   ]
  },
  {
   "cell_type": "code",
   "execution_count": 6,
   "metadata": {},
   "outputs": [
    {
     "data": {
      "text/plain": [
       "0       81640206\n",
       "1       18181397\n",
       "2       54591726\n",
       "3       18015147\n",
       "4       98927761\n",
       "          ...   \n",
       "4995    47462915\n",
       "4996    39509792\n",
       "4997    31955628\n",
       "4998    32521680\n",
       "4999    97990977\n",
       "Name: Id, Length: 5000, dtype: object"
      ]
     },
     "execution_count": 6,
     "metadata": {},
     "output_type": "execute_result"
    }
   ],
   "source": [
    "# Code to fix the conflict\n",
    "\n",
    "# Create a function to random id\n",
    "# But have to check if it has not existed in data set 1\n",
    "\n",
    "def random_id(list_1, list_2):\n",
    "    while True:\n",
    "        random_val = random.randint(10000000, 99999999)\n",
    "        if random_val not in list_1 and random_val not in list_1:\n",
    "            return random_val\n",
    "\n",
    "# Create missing columns\n",
    "\n",
    "df_dataset_2['Id'] = None\n",
    "df_dataset_2['SourceName'] = 'www.jobhuntlisting.com'\n",
    "\n",
    "# Parse new id to dataset 2 without duplicates\n",
    "\n",
    "dataset_1_id_list = df_dataset_1['Id'].tolist()\n",
    "for new_id in df_dataset_2.index:\n",
    "    df_dataset_2.loc[new_id, 'Id'] = random_id(dataset_1_id_list, df_dataset_2[~df_dataset_2['Id'].isna()]['Id'].tolist())\n",
    "\n",
    "df_dataset_2['Id']"
   ]
  },
  {
   "cell_type": "code",
   "execution_count": 7,
   "metadata": {},
   "outputs": [
    {
     "data": {
      "text/plain": [
       "0       www.jobhuntlisting.com\n",
       "1       www.jobhuntlisting.com\n",
       "2       www.jobhuntlisting.com\n",
       "3       www.jobhuntlisting.com\n",
       "4       www.jobhuntlisting.com\n",
       "                 ...          \n",
       "4995    www.jobhuntlisting.com\n",
       "4996    www.jobhuntlisting.com\n",
       "4997    www.jobhuntlisting.com\n",
       "4998    www.jobhuntlisting.com\n",
       "4999    www.jobhuntlisting.com\n",
       "Name: SourceName, Length: 5000, dtype: object"
      ]
     },
     "execution_count": 7,
     "metadata": {},
     "output_type": "execute_result"
    }
   ],
   "source": [
    "df_dataset_2['SourceName']"
   ]
  },
  {
   "cell_type": "markdown",
   "metadata": {},
   "source": [
    "#### Conflict 3: Columns from 2 data sets are not aligned"
   ]
  },
  {
   "cell_type": "code",
   "execution_count": 8,
   "metadata": {},
   "outputs": [
    {
     "data": {
      "text/plain": [
       "Id                int64\n",
       "Title            object\n",
       "Location         object\n",
       "Company          object\n",
       "ContractType     object\n",
       "ContractTime     object\n",
       "Category         object\n",
       "Salary          float64\n",
       "OpenDate         object\n",
       "CloseDate        object\n",
       "SourceName       object\n",
       "dtype: object"
      ]
     },
     "execution_count": 8,
     "metadata": {},
     "output_type": "execute_result"
    }
   ],
   "source": [
    "# Code to inspect data and identify conflicts in schema\n",
    "\n",
    "df_dataset_1.dtypes"
   ]
  },
  {
   "cell_type": "code",
   "execution_count": 9,
   "metadata": {},
   "outputs": [
    {
     "data": {
      "text/plain": [
       "Salary          float64\n",
       "CloseDate        object\n",
       "Company          object\n",
       "Location         object\n",
       "Category         object\n",
       "ContractType    float64\n",
       "OpenDate         object\n",
       "Title            object\n",
       "ContractTime     object\n",
       "Id               object\n",
       "SourceName       object\n",
       "dtype: object"
      ]
     },
     "execution_count": 9,
     "metadata": {},
     "output_type": "execute_result"
    }
   ],
   "source": [
    "df_dataset_2.dtypes"
   ]
  },
  {
   "cell_type": "code",
   "execution_count": 10,
   "metadata": {},
   "outputs": [
    {
     "data": {
      "text/plain": [
       "Id                int64\n",
       "Title            object\n",
       "Location         object\n",
       "Company          object\n",
       "ContractType     object\n",
       "ContractTime     object\n",
       "Category         object\n",
       "Salary          float64\n",
       "OpenDate         object\n",
       "CloseDate        object\n",
       "SourceName       object\n",
       "dtype: object"
      ]
     },
     "execution_count": 10,
     "metadata": {},
     "output_type": "execute_result"
    }
   ],
   "source": [
    "# Code to fix the conflict\n",
    "\n",
    "# Align column in data set 2 according to data set 1\n",
    "\n",
    "column_names = ['Id', 'Title', 'Location', 'Company', 'ContractType', 'ContractTime', 'Category', 'Salary', 'OpenDate', 'CloseDate', 'SourceName']\n",
    "df_dataset_2 = df_dataset_2.reindex(columns=column_names)\n",
    "\n",
    "df_dataset_1.dtypes"
   ]
  },
  {
   "cell_type": "code",
   "execution_count": 11,
   "metadata": {},
   "outputs": [
    {
     "data": {
      "text/plain": [
       "Id               object\n",
       "Title            object\n",
       "Location         object\n",
       "Company          object\n",
       "ContractType    float64\n",
       "ContractTime     object\n",
       "Category         object\n",
       "Salary          float64\n",
       "OpenDate         object\n",
       "CloseDate        object\n",
       "SourceName       object\n",
       "dtype: object"
      ]
     },
     "execution_count": 11,
     "metadata": {},
     "output_type": "execute_result"
    }
   ],
   "source": [
    "df_dataset_2.dtypes"
   ]
  },
  {
   "cell_type": "markdown",
   "metadata": {},
   "source": [
    "### 3. Merging data\n",
    "\n",
    "<span style=\"color: red\"> You might have complex notebook structure in this section, please feel free to create your own notebook structure. </span>"
   ]
  },
  {
   "cell_type": "code",
   "execution_count": 12,
   "metadata": {},
   "outputs": [
    {
     "data": {
      "text/html": [
       "<div>\n",
       "<style scoped>\n",
       "    .dataframe tbody tr th:only-of-type {\n",
       "        vertical-align: middle;\n",
       "    }\n",
       "\n",
       "    .dataframe tbody tr th {\n",
       "        vertical-align: top;\n",
       "    }\n",
       "\n",
       "    .dataframe thead th {\n",
       "        text-align: right;\n",
       "    }\n",
       "</style>\n",
       "<table border=\"1\" class=\"dataframe\">\n",
       "  <thead>\n",
       "    <tr style=\"text-align: right;\">\n",
       "      <th></th>\n",
       "      <th>Id</th>\n",
       "      <th>Title</th>\n",
       "      <th>Location</th>\n",
       "      <th>Company</th>\n",
       "      <th>ContractType</th>\n",
       "      <th>ContractTime</th>\n",
       "      <th>Category</th>\n",
       "      <th>Salary</th>\n",
       "      <th>OpenDate</th>\n",
       "      <th>CloseDate</th>\n",
       "      <th>SourceName</th>\n",
       "    </tr>\n",
       "  </thead>\n",
       "  <tbody>\n",
       "    <tr>\n",
       "      <th>0</th>\n",
       "      <td>67751856</td>\n",
       "      <td>Embedded Software Engineer  Up to ****  nr Gui...</td>\n",
       "      <td>Guildford</td>\n",
       "      <td>Computer Futures</td>\n",
       "      <td>non-specified</td>\n",
       "      <td>non-specified</td>\n",
       "      <td>IT Jobs</td>\n",
       "      <td>37500.00</td>\n",
       "      <td>2013-11-19 15:00:00</td>\n",
       "      <td>2014-01-18 15:00:00</td>\n",
       "      <td>gojobsearch.co.uk</td>\n",
       "    </tr>\n",
       "    <tr>\n",
       "      <th>1</th>\n",
       "      <td>70343285</td>\n",
       "      <td>CNC / Engineering Machinist</td>\n",
       "      <td>Leicester</td>\n",
       "      <td>Encore Personnel</td>\n",
       "      <td>non-specified</td>\n",
       "      <td>non-specified</td>\n",
       "      <td>Engineering Jobs</td>\n",
       "      <td>21600.00</td>\n",
       "      <td>2012-12-21 12:00:00</td>\n",
       "      <td>2013-01-04 12:00:00</td>\n",
       "      <td>gojobsearch.co.uk</td>\n",
       "    </tr>\n",
       "    <tr>\n",
       "      <th>2</th>\n",
       "      <td>71224993</td>\n",
       "      <td>Talented Data Insight Analyst required c ****</td>\n",
       "      <td>Nottingham</td>\n",
       "      <td>Intelect</td>\n",
       "      <td>non-specified</td>\n",
       "      <td>non-specified</td>\n",
       "      <td>PR, Advertising &amp; Marketing Jobs</td>\n",
       "      <td>26000.00</td>\n",
       "      <td>2013-08-15 15:00:00</td>\n",
       "      <td>2013-10-14 15:00:00</td>\n",
       "      <td>gojobsearch.co.uk</td>\n",
       "    </tr>\n",
       "    <tr>\n",
       "      <th>3</th>\n",
       "      <td>71900631</td>\n",
       "      <td>****x Net Developers Bristol ****</td>\n",
       "      <td>Bristol</td>\n",
       "      <td>Computer Futures</td>\n",
       "      <td>non-specified</td>\n",
       "      <td>non-specified</td>\n",
       "      <td>IT Jobs</td>\n",
       "      <td>32500.00</td>\n",
       "      <td>2012-10-29 00:00:00</td>\n",
       "      <td>2012-11-12 00:00:00</td>\n",
       "      <td>gojobsearch.co.uk</td>\n",
       "    </tr>\n",
       "    <tr>\n",
       "      <th>4</th>\n",
       "      <td>69690907</td>\n",
       "      <td>Launch Leader / PMST Leader</td>\n",
       "      <td>Warwickshire</td>\n",
       "      <td>ARM</td>\n",
       "      <td>non-specified</td>\n",
       "      <td>non-specified</td>\n",
       "      <td>Engineering Jobs</td>\n",
       "      <td>59520.00</td>\n",
       "      <td>2013-08-23 12:00:00</td>\n",
       "      <td>2013-09-22 12:00:00</td>\n",
       "      <td>gojobsearch.co.uk</td>\n",
       "    </tr>\n",
       "    <tr>\n",
       "      <th>...</th>\n",
       "      <td>...</td>\n",
       "      <td>...</td>\n",
       "      <td>...</td>\n",
       "      <td>...</td>\n",
       "      <td>...</td>\n",
       "      <td>...</td>\n",
       "      <td>...</td>\n",
       "      <td>...</td>\n",
       "      <td>...</td>\n",
       "      <td>...</td>\n",
       "      <td>...</td>\n",
       "    </tr>\n",
       "    <tr>\n",
       "      <th>4995</th>\n",
       "      <td>47462915</td>\n",
       "      <td>Head of Regulatory Policy</td>\n",
       "      <td>London</td>\n",
       "      <td>Jonathan Lee Recruitment Ltd</td>\n",
       "      <td>1.0</td>\n",
       "      <td>Permanent</td>\n",
       "      <td>Finance</td>\n",
       "      <td>5833.33</td>\n",
       "      <td>2013-01-30 00:00:00</td>\n",
       "      <td>2013-03-31 00:00:00</td>\n",
       "      <td>www.jobhuntlisting.com</td>\n",
       "    </tr>\n",
       "    <tr>\n",
       "      <th>4996</th>\n",
       "      <td>39509792</td>\n",
       "      <td>Android Developer  eMarkets and eCommerce  Ber...</td>\n",
       "      <td>Berkshire</td>\n",
       "      <td>Impact 360</td>\n",
       "      <td>1.0</td>\n",
       "      <td>Permanent</td>\n",
       "      <td>Information Technology</td>\n",
       "      <td>5000.00</td>\n",
       "      <td>2012-06-28 12:00:00</td>\n",
       "      <td>2012-08-27 12:00:00</td>\n",
       "      <td>www.jobhuntlisting.com</td>\n",
       "    </tr>\n",
       "    <tr>\n",
       "      <th>4997</th>\n",
       "      <td>31955628</td>\n",
       "      <td>SAS  Senior Collections Recoveries Analyst</td>\n",
       "      <td>London</td>\n",
       "      <td>Aspire Data Recruitment</td>\n",
       "      <td>1.0</td>\n",
       "      <td>Permanent</td>\n",
       "      <td>Finance</td>\n",
       "      <td>2833.33</td>\n",
       "      <td>2013-04-24 00:00:00</td>\n",
       "      <td>2013-07-23 00:00:00</td>\n",
       "      <td>www.jobhuntlisting.com</td>\n",
       "    </tr>\n",
       "    <tr>\n",
       "      <th>4998</th>\n",
       "      <td>32521680</td>\n",
       "      <td>Lead PHP Magento Developer  London  ****k</td>\n",
       "      <td>London</td>\n",
       "      <td>Annapurna HR Ltd</td>\n",
       "      <td>1.0</td>\n",
       "      <td>Permanent</td>\n",
       "      <td>Information Technology</td>\n",
       "      <td>4791.67</td>\n",
       "      <td>2012-11-18 15:00:00</td>\n",
       "      <td>2012-12-18 15:00:00</td>\n",
       "      <td>www.jobhuntlisting.com</td>\n",
       "    </tr>\n",
       "    <tr>\n",
       "      <th>4999</th>\n",
       "      <td>97990977</td>\n",
       "      <td>Linux (CentOS), Puppet, SVN, LAMP , Systems Ad...</td>\n",
       "      <td>Surrey</td>\n",
       "      <td>Parallel Consulting Limited</td>\n",
       "      <td>1.0</td>\n",
       "      <td>Permanent</td>\n",
       "      <td>Information Technology</td>\n",
       "      <td>3541.67</td>\n",
       "      <td>2013-08-21 12:00:00</td>\n",
       "      <td>2013-10-20 12:00:00</td>\n",
       "      <td>www.jobhuntlisting.com</td>\n",
       "    </tr>\n",
       "  </tbody>\n",
       "</table>\n",
       "<p>55753 rows × 11 columns</p>\n",
       "</div>"
      ],
      "text/plain": [
       "            Id                                              Title  \\\n",
       "0     67751856  Embedded Software Engineer  Up to ****  nr Gui...   \n",
       "1     70343285                        CNC / Engineering Machinist   \n",
       "2     71224993      Talented Data Insight Analyst required c ****   \n",
       "3     71900631                  ****x Net Developers Bristol ****   \n",
       "4     69690907                        Launch Leader / PMST Leader   \n",
       "...        ...                                                ...   \n",
       "4995  47462915                          Head of Regulatory Policy   \n",
       "4996  39509792  Android Developer  eMarkets and eCommerce  Ber...   \n",
       "4997  31955628         SAS  Senior Collections Recoveries Analyst   \n",
       "4998  32521680          Lead PHP Magento Developer  London  ****k   \n",
       "4999  97990977  Linux (CentOS), Puppet, SVN, LAMP , Systems Ad...   \n",
       "\n",
       "          Location                       Company   ContractType  \\\n",
       "0        Guildford              Computer Futures  non-specified   \n",
       "1        Leicester              Encore Personnel  non-specified   \n",
       "2       Nottingham                      Intelect  non-specified   \n",
       "3          Bristol              Computer Futures  non-specified   \n",
       "4     Warwickshire                           ARM  non-specified   \n",
       "...            ...                           ...            ...   \n",
       "4995        London  Jonathan Lee Recruitment Ltd            1.0   \n",
       "4996     Berkshire                    Impact 360            1.0   \n",
       "4997        London       Aspire Data Recruitment            1.0   \n",
       "4998        London              Annapurna HR Ltd            1.0   \n",
       "4999        Surrey   Parallel Consulting Limited            1.0   \n",
       "\n",
       "       ContractTime                          Category    Salary  \\\n",
       "0     non-specified                           IT Jobs  37500.00   \n",
       "1     non-specified                  Engineering Jobs  21600.00   \n",
       "2     non-specified  PR, Advertising & Marketing Jobs  26000.00   \n",
       "3     non-specified                           IT Jobs  32500.00   \n",
       "4     non-specified                  Engineering Jobs  59520.00   \n",
       "...             ...                               ...       ...   \n",
       "4995      Permanent                           Finance   5833.33   \n",
       "4996      Permanent            Information Technology   5000.00   \n",
       "4997      Permanent                           Finance   2833.33   \n",
       "4998      Permanent            Information Technology   4791.67   \n",
       "4999      Permanent            Information Technology   3541.67   \n",
       "\n",
       "                 OpenDate            CloseDate              SourceName  \n",
       "0     2013-11-19 15:00:00  2014-01-18 15:00:00       gojobsearch.co.uk  \n",
       "1     2012-12-21 12:00:00  2013-01-04 12:00:00       gojobsearch.co.uk  \n",
       "2     2013-08-15 15:00:00  2013-10-14 15:00:00       gojobsearch.co.uk  \n",
       "3     2012-10-29 00:00:00  2012-11-12 00:00:00       gojobsearch.co.uk  \n",
       "4     2013-08-23 12:00:00  2013-09-22 12:00:00       gojobsearch.co.uk  \n",
       "...                   ...                  ...                     ...  \n",
       "4995  2013-01-30 00:00:00  2013-03-31 00:00:00  www.jobhuntlisting.com  \n",
       "4996  2012-06-28 12:00:00  2012-08-27 12:00:00  www.jobhuntlisting.com  \n",
       "4997  2013-04-24 00:00:00  2013-07-23 00:00:00  www.jobhuntlisting.com  \n",
       "4998  2012-11-18 15:00:00  2012-12-18 15:00:00  www.jobhuntlisting.com  \n",
       "4999  2013-08-21 12:00:00  2013-10-20 12:00:00  www.jobhuntlisting.com  \n",
       "\n",
       "[55753 rows x 11 columns]"
      ]
     },
     "execution_count": 12,
     "metadata": {},
     "output_type": "execute_result"
    }
   ],
   "source": [
    "# Code to merge two data sets\n",
    "\n",
    "df = pd.concat([df_dataset_1, df_dataset_2])\n",
    "df"
   ]
  },
  {
   "cell_type": "markdown",
   "metadata": {},
   "source": [
    "### 4. Resolving data conflicts:\n",
    "Give some general information about the data conflicts you found in the unified table and how you resolve them.\n",
    "\n",
    "<span style=\"color: red\"> You might have complex notebook structure in this section, please feel free to create your own notebook structure. </span>"
   ]
  },
  {
   "cell_type": "markdown",
   "metadata": {},
   "source": [
    "#### Conflict 1: Salary from new data frame seems to be monthly"
   ]
  },
  {
   "cell_type": "code",
   "execution_count": 13,
   "metadata": {},
   "outputs": [
    {
     "data": {
      "text/plain": [
       "50753    1200.00\n",
       "50754    3125.00\n",
       "50755    4333.33\n",
       "50756    3750.00\n",
       "50757    2916.67\n",
       "          ...   \n",
       "55748    5833.33\n",
       "55749    5000.00\n",
       "55750    2833.33\n",
       "55751    4791.67\n",
       "55752    3541.67\n",
       "Name: Salary, Length: 5000, dtype: float64"
      ]
     },
     "execution_count": 13,
     "metadata": {},
     "output_type": "execute_result"
    }
   ],
   "source": [
    "# Code to inspect data and identify conflicts in data\n",
    "\n",
    "df.reset_index(drop=True, inplace=True)\n",
    "id_set2 = df[df['SourceName'] == 'www.jobhuntlisting.com'].index\n",
    "\n",
    "df.loc[id_set2, 'Salary']"
   ]
  },
  {
   "cell_type": "markdown",
   "metadata": {},
   "source": [
    "Tell me about how you fix the conflict here"
   ]
  },
  {
   "cell_type": "code",
   "execution_count": 14,
   "metadata": {},
   "outputs": [
    {
     "data": {
      "text/plain": [
       "50753    14400.00\n",
       "50754    37500.00\n",
       "50755    51999.96\n",
       "50756    45000.00\n",
       "50757    35000.04\n",
       "           ...   \n",
       "55748    69999.96\n",
       "55749    60000.00\n",
       "55750    33999.96\n",
       "55751    57500.04\n",
       "55752    42500.04\n",
       "Name: Salary, Length: 5000, dtype: float64"
      ]
     },
     "execution_count": 14,
     "metadata": {},
     "output_type": "execute_result"
    }
   ],
   "source": [
    "# Code to fix the conflict\n",
    "\n",
    "df.loc[id_set2, 'Salary'] = df.loc[id_set2, 'Salary'] * 12\n",
    "df.loc[id_set2, 'Salary']"
   ]
  },
  {
   "cell_type": "markdown",
   "metadata": {},
   "source": [
    "#### Conflict 2: Unmatched categories"
   ]
  },
  {
   "cell_type": "code",
   "execution_count": 15,
   "metadata": {},
   "outputs": [
    {
     "name": "stdout",
     "output_type": "stream",
     "text": [
      "Information Technology    1317\n",
      "Health                     789\n",
      "Engineering                744\n",
      "Finance                    668\n",
      "Sales                      498\n",
      "Hospitality                399\n",
      "Education                  326\n",
      "Marketing                  259\n",
      "Name: Category, dtype: int64\n",
      "IT Jobs                             13118\n",
      "Healthcare & Nursing Jobs            8071\n",
      "Engineering Jobs                     7523\n",
      "Accounting & Finance Jobs            6781\n",
      "Sales Jobs                           4879\n",
      "Hospitality & Catering Jobs          4400\n",
      "Teaching Jobs                        3469\n",
      "PR, Advertising & Marketing Jobs     2512\n",
      "Name: Category, dtype: int64\n"
     ]
    }
   ],
   "source": [
    "# Code to inspect data and identify conflicts in data\n",
    "\n",
    "print(df[df['SourceName'] == 'www.jobhuntlisting.com']['Category'].value_counts())\n",
    "print(df[df['SourceName'] != 'www.jobhuntlisting.com']['Category'].value_counts())"
   ]
  },
  {
   "cell_type": "code",
   "execution_count": 16,
   "metadata": {},
   "outputs": [
    {
     "name": "stdout",
     "output_type": "stream",
     "text": [
      "IT Jobs                             1317\n",
      "Healthcare & Nursing Jobs            789\n",
      "Engineering Jobs                     744\n",
      "Accounting & Finance Jobs            668\n",
      "Sales Jobs                           498\n",
      "Hospitality & Catering Jobs          399\n",
      "Teaching Jobs                        326\n",
      "PR, Advertising & Marketing Jobs     259\n",
      "Name: Category, dtype: int64\n",
      "IT Jobs                             13118\n",
      "Healthcare & Nursing Jobs            8071\n",
      "Engineering Jobs                     7523\n",
      "Accounting & Finance Jobs            6781\n",
      "Sales Jobs                           4879\n",
      "Hospitality & Catering Jobs          4400\n",
      "Teaching Jobs                        3469\n",
      "PR, Advertising & Marketing Jobs     2512\n",
      "Name: Category, dtype: int64\n"
     ]
    }
   ],
   "source": [
    "# Code to fix the conflict\n",
    "\n",
    "# Match the names of category according to data set 1\n",
    "\n",
    "category_map = {\n",
    "    'Information Technology':'IT Jobs',\n",
    "    'Health':'Healthcare & Nursing Jobs',\n",
    "    'Engineering':'Engineering Jobs',\n",
    "    'Finance':'Accounting & Finance Jobs',\n",
    "    'Sales':'Sales Jobs',\n",
    "    'Hospitality':'Hospitality & Catering Jobs',\n",
    "    'Education':'Teaching Jobs',\n",
    "    'Marketing':'PR, Advertising & Marketing Jobs'\n",
    "}\n",
    "for cat in category_map.keys():\n",
    "    cat_id = df[df['Category'] == cat].index\n",
    "    df.loc[cat_id, 'Category'] = category_map[cat]\n",
    "    \n",
    "print(df[df['SourceName'] == 'www.jobhuntlisting.com']['Category'].value_counts())\n",
    "print(df[df['SourceName'] != 'www.jobhuntlisting.com']['Category'].value_counts())"
   ]
  },
  {
   "cell_type": "markdown",
   "metadata": {},
   "source": [
    "#### Conflict 3: Unmatched ContractTimes"
   ]
  },
  {
   "cell_type": "code",
   "execution_count": 17,
   "metadata": {},
   "outputs": [
    {
     "name": "stdout",
     "output_type": "stream",
     "text": [
      "Permanent              3040\n",
      "Fixed Term Contract     540\n",
      "Name: ContractTime, dtype: int64\n",
      "permanent        31024\n",
      "non-specified    14101\n",
      "contract          5628\n",
      "Name: ContractTime, dtype: int64\n"
     ]
    }
   ],
   "source": [
    "# Code to inspect data and identify conflicts in data\n",
    "\n",
    "print(df[df['SourceName'] == 'www.jobhuntlisting.com']['ContractTime'].value_counts())\n",
    "print(df[df['SourceName'] != 'www.jobhuntlisting.com']['ContractTime'].value_counts())"
   ]
  },
  {
   "cell_type": "code",
   "execution_count": 18,
   "metadata": {},
   "outputs": [
    {
     "name": "stdout",
     "output_type": "stream",
     "text": [
      "permanent    3040\n",
      "contract      540\n",
      "Name: ContractTime, dtype: int64\n",
      "permanent        31024\n",
      "non-specified    14101\n",
      "contract          5628\n",
      "Name: ContractTime, dtype: int64\n"
     ]
    }
   ],
   "source": [
    "# Code to fix the conflict\n",
    "\n",
    "# Match the names of contactTime according to data set 1\n",
    "\n",
    "contract_time_map = {'Permanent':'permanent', 'Fixed Term Contract':'contract'}\n",
    "contract_time_list = ['permanent', 'contract', 'non-specified']\n",
    "for contime in contract_time_map.keys():\n",
    "    contime_id = df[df['ContractTime'] == contime].index\n",
    "    df.loc[contime_id, 'ContractTime'] = contract_time_map[contime]\n",
    "\n",
    "print(df[df['SourceName'] == 'www.jobhuntlisting.com']['ContractTime'].value_counts())\n",
    "print(df[df['SourceName'] != 'www.jobhuntlisting.com']['ContractTime'].value_counts())"
   ]
  },
  {
   "cell_type": "markdown",
   "metadata": {},
   "source": [
    "#### Conflict 4: Unmatched ContractTypes"
   ]
  },
  {
   "cell_type": "code",
   "execution_count": 19,
   "metadata": {},
   "outputs": [
    {
     "name": "stdout",
     "output_type": "stream",
     "text": [
      "1.0    4834\n",
      "0.4      47\n",
      "0.8      41\n",
      "0.6      39\n",
      "0.2      39\n",
      "Name: ContractType, dtype: int64\n",
      "non-specified    38082\n",
      "full_time        11250\n",
      "part_time         1421\n",
      "Name: ContractType, dtype: int64\n"
     ]
    }
   ],
   "source": [
    "# Code to inspect data and identify conflicts in data\n",
    "\n",
    "print(df[df['SourceName'] == 'www.jobhuntlisting.com']['ContractType'].value_counts())\n",
    "print(df[df['SourceName'] != 'www.jobhuntlisting.com']['ContractType'].value_counts())"
   ]
  },
  {
   "cell_type": "code",
   "execution_count": 20,
   "metadata": {},
   "outputs": [
    {
     "name": "stdout",
     "output_type": "stream",
     "text": [
      "full_time    4834\n",
      "part_time     166\n",
      "Name: ContractType, dtype: int64\n",
      "non-specified    38082\n",
      "full_time        11250\n",
      "part_time         1421\n",
      "Name: ContractType, dtype: int64\n"
     ]
    }
   ],
   "source": [
    "# Code to fix the conflict\n",
    "\n",
    "# Match the names of contactType according to data set 1\n",
    "\n",
    "contract_type_map = {1.0:'full_time', 0.2:'part_time', 0.4:'part_time', 0.6:'part_time', 0.8:'part_time'}\n",
    "contract_type_list = ['full_time', 'part_time', 'non-specified']\n",
    "for contype in contract_type_map.keys():\n",
    "    contype_id = df[df['ContractType'] == contype].index\n",
    "    df.loc[contype_id, 'ContractType'] = contract_type_map[contype]\n",
    "\n",
    "# df[df['ContractType'] == 0.2].index\n",
    "# df['ContractType'] = df['ContractType'].apply(lambda x: x if x in contract_type_list else 'non-specified')\n",
    "\n",
    "print(df[df['SourceName'] == 'www.jobhuntlisting.com']['ContractType'].value_counts())\n",
    "print(df[df['SourceName'] != 'www.jobhuntlisting.com']['ContractType'].value_counts())"
   ]
  },
  {
   "cell_type": "markdown",
   "metadata": {},
   "source": [
    "......"
   ]
  },
  {
   "cell_type": "markdown",
   "metadata": {},
   "source": [
    "#### Finding global key for the data\n",
    "Find a proper global key for the integrated data and give justification here."
   ]
  },
  {
   "cell_type": "code",
   "execution_count": 21,
   "metadata": {},
   "outputs": [],
   "source": [
    "# Code to identify global key"
   ]
  },
  {
   "cell_type": "markdown",
   "metadata": {},
   "source": [
    "......."
   ]
  },
  {
   "cell_type": "markdown",
   "metadata": {},
   "source": [
    "#### Conflict 2: XXXX (e.g., other duplications)\n",
    "Here give some general information about this conflict."
   ]
  },
  {
   "cell_type": "markdown",
   "metadata": {},
   "source": [
    "### 5. Saving the integrated and reshaped data\n",
    "The last part of the integration process is to export our output data to csv format, named as:\n",
    "- '\\<student\\_id\\>_dataset_integrated.csv'"
   ]
  },
  {
   "cell_type": "code",
   "execution_count": 22,
   "metadata": {},
   "outputs": [],
   "source": [
    "# code to save output data\n",
    "\n",
    "df.to_csv('s3940976_dataset_integrated.csv', index = False)"
   ]
  },
  {
   "cell_type": "markdown",
   "metadata": {},
   "source": [
    "## Summary of the Assessment Task\n",
    "\n",
    "This part is more comfortable. But as time is running out, I could also do the best I could."
   ]
  }
 ],
 "metadata": {
  "kernelspec": {
   "display_name": "Python 3 (ipykernel)",
   "language": "python",
   "name": "python3"
  },
  "language_info": {
   "codemirror_mode": {
    "name": "ipython",
    "version": 3
   },
   "file_extension": ".py",
   "mimetype": "text/x-python",
   "name": "python",
   "nbconvert_exporter": "python",
   "pygments_lexer": "ipython3",
   "version": "3.9.13"
  }
 },
 "nbformat": 4,
 "nbformat_minor": 1
}
